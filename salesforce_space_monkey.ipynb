{
 "cells": [
  {
   "cell_type": "code",
   "execution_count": 6,
   "metadata": {
    "collapsed": true,
    "pycharm": {
     "name": "#%%\n"
    }
   },
   "outputs": [],
   "source": [
    "# FILENAME\n",
    "# SOURCE\n"
   ]
  },
  {
   "cell_type": "code",
   "execution_count": 7,
   "outputs": [
    {
     "name": "stdout",
     "output_type": "stream",
     "text": [
      "Requirement already satisfied: jupyterlab in /Library/Frameworks/Python.framework/Versions/3.7/lib/python3.7/site-packages (3.4.8)\r\n",
      "Requirement already satisfied: tornado>=6.1.0 in /Library/Frameworks/Python.framework/Versions/3.7/lib/python3.7/site-packages (from jupyterlab) (6.2)\r\n",
      "Requirement already satisfied: notebook<7 in /Library/Frameworks/Python.framework/Versions/3.7/lib/python3.7/site-packages (from jupyterlab) (6.4.12)\r\n",
      "Requirement already satisfied: jinja2>=2.1 in /Library/Frameworks/Python.framework/Versions/3.7/lib/python3.7/site-packages (from jupyterlab) (3.1.2)\r\n",
      "Requirement already satisfied: jupyter-server~=1.16 in /Library/Frameworks/Python.framework/Versions/3.7/lib/python3.7/site-packages (from jupyterlab) (1.21.0)\r\n",
      "Requirement already satisfied: packaging in /Library/Frameworks/Python.framework/Versions/3.7/lib/python3.7/site-packages (from jupyterlab) (21.3)\r\n",
      "Requirement already satisfied: nbclassic in /Library/Frameworks/Python.framework/Versions/3.7/lib/python3.7/site-packages (from jupyterlab) (0.4.5)\r\n",
      "Requirement already satisfied: jupyterlab-server~=2.10 in /Library/Frameworks/Python.framework/Versions/3.7/lib/python3.7/site-packages (from jupyterlab) (2.15.2)\r\n",
      "Requirement already satisfied: tomli in /Library/Frameworks/Python.framework/Versions/3.7/lib/python3.7/site-packages (from jupyterlab) (2.0.1)\r\n",
      "Requirement already satisfied: jupyter-core in /Library/Frameworks/Python.framework/Versions/3.7/lib/python3.7/site-packages (from jupyterlab) (4.11.1)\r\n",
      "Requirement already satisfied: ipython in /Library/Frameworks/Python.framework/Versions/3.7/lib/python3.7/site-packages (from jupyterlab) (7.34.0)\r\n",
      "Requirement already satisfied: MarkupSafe>=2.0 in /Library/Frameworks/Python.framework/Versions/3.7/lib/python3.7/site-packages (from jinja2>=2.1->jupyterlab) (2.1.1)\r\n",
      "Requirement already satisfied: anyio<4,>=3.1.0 in /Library/Frameworks/Python.framework/Versions/3.7/lib/python3.7/site-packages (from jupyter-server~=1.16->jupyterlab) (3.6.1)\r\n",
      "Requirement already satisfied: nbconvert>=6.4.4 in /Library/Frameworks/Python.framework/Versions/3.7/lib/python3.7/site-packages (from jupyter-server~=1.16->jupyterlab) (7.2.1)\r\n",
      "Requirement already satisfied: pyzmq>=17 in /Library/Frameworks/Python.framework/Versions/3.7/lib/python3.7/site-packages (from jupyter-server~=1.16->jupyterlab) (24.0.1)\r\n",
      "Requirement already satisfied: nbformat>=5.2.0 in /Library/Frameworks/Python.framework/Versions/3.7/lib/python3.7/site-packages (from jupyter-server~=1.16->jupyterlab) (5.7.0)\r\n",
      "Requirement already satisfied: terminado>=0.8.3 in /Library/Frameworks/Python.framework/Versions/3.7/lib/python3.7/site-packages (from jupyter-server~=1.16->jupyterlab) (0.16.0)\r\n",
      "Requirement already satisfied: prometheus-client in /Library/Frameworks/Python.framework/Versions/3.7/lib/python3.7/site-packages (from jupyter-server~=1.16->jupyterlab) (0.14.1)\r\n",
      "Requirement already satisfied: Send2Trash in /Library/Frameworks/Python.framework/Versions/3.7/lib/python3.7/site-packages (from jupyter-server~=1.16->jupyterlab) (1.8.0)\r\n",
      "Requirement already satisfied: traitlets>=5.1 in /Library/Frameworks/Python.framework/Versions/3.7/lib/python3.7/site-packages (from jupyter-server~=1.16->jupyterlab) (5.4.0)\r\n",
      "Requirement already satisfied: websocket-client in /Library/Frameworks/Python.framework/Versions/3.7/lib/python3.7/site-packages (from jupyter-server~=1.16->jupyterlab) (1.4.1)\r\n",
      "Requirement already satisfied: argon2-cffi in /Library/Frameworks/Python.framework/Versions/3.7/lib/python3.7/site-packages (from jupyter-server~=1.16->jupyterlab) (21.3.0)\r\n",
      "Requirement already satisfied: jupyter-client>=6.1.12 in /Library/Frameworks/Python.framework/Versions/3.7/lib/python3.7/site-packages (from jupyter-server~=1.16->jupyterlab) (7.4.1)\r\n",
      "Requirement already satisfied: babel in /Library/Frameworks/Python.framework/Versions/3.7/lib/python3.7/site-packages (from jupyterlab-server~=2.10->jupyterlab) (2.10.3)\r\n",
      "Requirement already satisfied: importlib-metadata>=3.6 in /Library/Frameworks/Python.framework/Versions/3.7/lib/python3.7/site-packages (from jupyterlab-server~=2.10->jupyterlab) (5.0.0)\r\n",
      "Requirement already satisfied: jsonschema>=3.0.1 in /Library/Frameworks/Python.framework/Versions/3.7/lib/python3.7/site-packages (from jupyterlab-server~=2.10->jupyterlab) (4.16.0)\r\n",
      "Requirement already satisfied: json5 in /Library/Frameworks/Python.framework/Versions/3.7/lib/python3.7/site-packages (from jupyterlab-server~=2.10->jupyterlab) (0.9.10)\r\n",
      "Requirement already satisfied: requests in /Library/Frameworks/Python.framework/Versions/3.7/lib/python3.7/site-packages (from jupyterlab-server~=2.10->jupyterlab) (2.28.1)\r\n",
      "Requirement already satisfied: ipython-genutils in /Library/Frameworks/Python.framework/Versions/3.7/lib/python3.7/site-packages (from notebook<7->jupyterlab) (0.2.0)\r\n",
      "Requirement already satisfied: ipykernel in /Library/Frameworks/Python.framework/Versions/3.7/lib/python3.7/site-packages (from notebook<7->jupyterlab) (6.16.0)\r\n",
      "Requirement already satisfied: nest-asyncio>=1.5 in /Library/Frameworks/Python.framework/Versions/3.7/lib/python3.7/site-packages (from notebook<7->jupyterlab) (1.5.6)\r\n",
      "Requirement already satisfied: pickleshare in /Library/Frameworks/Python.framework/Versions/3.7/lib/python3.7/site-packages (from ipython->jupyterlab) (0.7.5)\r\n",
      "Requirement already satisfied: pexpect>4.3 in /Library/Frameworks/Python.framework/Versions/3.7/lib/python3.7/site-packages (from ipython->jupyterlab) (4.8.0)\r\n",
      "Requirement already satisfied: appnope in /Library/Frameworks/Python.framework/Versions/3.7/lib/python3.7/site-packages (from ipython->jupyterlab) (0.1.3)\r\n",
      "Requirement already satisfied: matplotlib-inline in /Library/Frameworks/Python.framework/Versions/3.7/lib/python3.7/site-packages (from ipython->jupyterlab) (0.1.6)\r\n",
      "Requirement already satisfied: backcall in /Library/Frameworks/Python.framework/Versions/3.7/lib/python3.7/site-packages (from ipython->jupyterlab) (0.2.0)\r\n",
      "Requirement already satisfied: prompt-toolkit!=3.0.0,!=3.0.1,<3.1.0,>=2.0.0 in /Library/Frameworks/Python.framework/Versions/3.7/lib/python3.7/site-packages (from ipython->jupyterlab) (3.0.31)\r\n",
      "Requirement already satisfied: decorator in /Library/Frameworks/Python.framework/Versions/3.7/lib/python3.7/site-packages (from ipython->jupyterlab) (5.1.1)\r\n",
      "Requirement already satisfied: setuptools>=18.5 in /Library/Frameworks/Python.framework/Versions/3.7/lib/python3.7/site-packages (from ipython->jupyterlab) (62.3.2)\r\n",
      "Requirement already satisfied: jedi>=0.16 in /Library/Frameworks/Python.framework/Versions/3.7/lib/python3.7/site-packages (from ipython->jupyterlab) (0.18.1)\r\n",
      "Requirement already satisfied: pygments in /Library/Frameworks/Python.framework/Versions/3.7/lib/python3.7/site-packages (from ipython->jupyterlab) (2.13.0)\r\n",
      "Requirement already satisfied: notebook-shim>=0.1.0 in /Library/Frameworks/Python.framework/Versions/3.7/lib/python3.7/site-packages (from nbclassic->jupyterlab) (0.1.0)\r\n",
      "Requirement already satisfied: pyparsing!=3.0.5,>=2.0.2 in /Library/Frameworks/Python.framework/Versions/3.7/lib/python3.7/site-packages (from packaging->jupyterlab) (3.0.9)\r\n",
      "Requirement already satisfied: typing-extensions in /Library/Frameworks/Python.framework/Versions/3.7/lib/python3.7/site-packages (from anyio<4,>=3.1.0->jupyter-server~=1.16->jupyterlab) (4.4.0)\r\n",
      "Requirement already satisfied: sniffio>=1.1 in /Library/Frameworks/Python.framework/Versions/3.7/lib/python3.7/site-packages (from anyio<4,>=3.1.0->jupyter-server~=1.16->jupyterlab) (1.3.0)\r\n",
      "Requirement already satisfied: idna>=2.8 in /Library/Frameworks/Python.framework/Versions/3.7/lib/python3.7/site-packages (from anyio<4,>=3.1.0->jupyter-server~=1.16->jupyterlab) (3.4)\r\n",
      "Requirement already satisfied: zipp>=0.5 in /Library/Frameworks/Python.framework/Versions/3.7/lib/python3.7/site-packages (from importlib-metadata>=3.6->jupyterlab-server~=2.10->jupyterlab) (3.9.0)\r\n",
      "Requirement already satisfied: parso<0.9.0,>=0.8.0 in /Library/Frameworks/Python.framework/Versions/3.7/lib/python3.7/site-packages (from jedi>=0.16->ipython->jupyterlab) (0.8.3)\r\n",
      "Requirement already satisfied: importlib-resources>=1.4.0 in /Library/Frameworks/Python.framework/Versions/3.7/lib/python3.7/site-packages (from jsonschema>=3.0.1->jupyterlab-server~=2.10->jupyterlab) (5.10.0)\r\n",
      "Requirement already satisfied: pyrsistent!=0.17.0,!=0.17.1,!=0.17.2,>=0.14.0 in /Library/Frameworks/Python.framework/Versions/3.7/lib/python3.7/site-packages (from jsonschema>=3.0.1->jupyterlab-server~=2.10->jupyterlab) (0.18.1)\r\n",
      "Requirement already satisfied: pkgutil-resolve-name>=1.3.10 in /Library/Frameworks/Python.framework/Versions/3.7/lib/python3.7/site-packages (from jsonschema>=3.0.1->jupyterlab-server~=2.10->jupyterlab) (1.3.10)\r\n",
      "Requirement already satisfied: attrs>=17.4.0 in /Library/Frameworks/Python.framework/Versions/3.7/lib/python3.7/site-packages (from jsonschema>=3.0.1->jupyterlab-server~=2.10->jupyterlab) (22.1.0)\r\n",
      "Requirement already satisfied: entrypoints in /Library/Frameworks/Python.framework/Versions/3.7/lib/python3.7/site-packages (from jupyter-client>=6.1.12->jupyter-server~=1.16->jupyterlab) (0.4)\r\n",
      "Requirement already satisfied: python-dateutil>=2.8.2 in /Library/Frameworks/Python.framework/Versions/3.7/lib/python3.7/site-packages (from jupyter-client>=6.1.12->jupyter-server~=1.16->jupyterlab) (2.8.2)\r\n",
      "Requirement already satisfied: nbclient>=0.5.0 in /Library/Frameworks/Python.framework/Versions/3.7/lib/python3.7/site-packages (from nbconvert>=6.4.4->jupyter-server~=1.16->jupyterlab) (0.7.0)\r\n",
      "Requirement already satisfied: beautifulsoup4 in /Library/Frameworks/Python.framework/Versions/3.7/lib/python3.7/site-packages (from nbconvert>=6.4.4->jupyter-server~=1.16->jupyterlab) (4.11.1)\r\n",
      "Requirement already satisfied: tinycss2 in /Library/Frameworks/Python.framework/Versions/3.7/lib/python3.7/site-packages (from nbconvert>=6.4.4->jupyter-server~=1.16->jupyterlab) (1.1.1)\r\n",
      "Requirement already satisfied: jupyterlab-pygments in /Library/Frameworks/Python.framework/Versions/3.7/lib/python3.7/site-packages (from nbconvert>=6.4.4->jupyter-server~=1.16->jupyterlab) (0.2.2)\r\n",
      "Requirement already satisfied: defusedxml in /Library/Frameworks/Python.framework/Versions/3.7/lib/python3.7/site-packages (from nbconvert>=6.4.4->jupyter-server~=1.16->jupyterlab) (0.7.1)\r\n",
      "Requirement already satisfied: mistune<3,>=2.0.3 in /Library/Frameworks/Python.framework/Versions/3.7/lib/python3.7/site-packages (from nbconvert>=6.4.4->jupyter-server~=1.16->jupyterlab) (2.0.4)\r\n",
      "Requirement already satisfied: pandocfilters>=1.4.1 in /Library/Frameworks/Python.framework/Versions/3.7/lib/python3.7/site-packages (from nbconvert>=6.4.4->jupyter-server~=1.16->jupyterlab) (1.5.0)\r\n",
      "Requirement already satisfied: bleach in /Library/Frameworks/Python.framework/Versions/3.7/lib/python3.7/site-packages (from nbconvert>=6.4.4->jupyter-server~=1.16->jupyterlab) (5.0.1)\r\n",
      "Requirement already satisfied: fastjsonschema in /Library/Frameworks/Python.framework/Versions/3.7/lib/python3.7/site-packages (from nbformat>=5.2.0->jupyter-server~=1.16->jupyterlab) (2.16.2)\r\n",
      "Requirement already satisfied: ptyprocess>=0.5 in /Library/Frameworks/Python.framework/Versions/3.7/lib/python3.7/site-packages (from pexpect>4.3->ipython->jupyterlab) (0.7.0)\r\n",
      "Requirement already satisfied: wcwidth in /Library/Frameworks/Python.framework/Versions/3.7/lib/python3.7/site-packages (from prompt-toolkit!=3.0.0,!=3.0.1,<3.1.0,>=2.0.0->ipython->jupyterlab) (0.2.5)\r\n",
      "Requirement already satisfied: argon2-cffi-bindings in /Library/Frameworks/Python.framework/Versions/3.7/lib/python3.7/site-packages (from argon2-cffi->jupyter-server~=1.16->jupyterlab) (21.2.0)\r\n",
      "Requirement already satisfied: pytz>=2015.7 in /Library/Frameworks/Python.framework/Versions/3.7/lib/python3.7/site-packages (from babel->jupyterlab-server~=2.10->jupyterlab) (2018.4)\r\n",
      "Requirement already satisfied: psutil in /Library/Frameworks/Python.framework/Versions/3.7/lib/python3.7/site-packages (from ipykernel->notebook<7->jupyterlab) (5.9.2)\r\n",
      "Requirement already satisfied: debugpy>=1.0 in /Library/Frameworks/Python.framework/Versions/3.7/lib/python3.7/site-packages (from ipykernel->notebook<7->jupyterlab) (1.6.3)\r\n",
      "Requirement already satisfied: urllib3<1.27,>=1.21.1 in /Library/Frameworks/Python.framework/Versions/3.7/lib/python3.7/site-packages (from requests->jupyterlab-server~=2.10->jupyterlab) (1.24.3)\r\n",
      "Requirement already satisfied: charset-normalizer<3,>=2 in /Library/Frameworks/Python.framework/Versions/3.7/lib/python3.7/site-packages (from requests->jupyterlab-server~=2.10->jupyterlab) (2.1.1)\r\n",
      "Requirement already satisfied: certifi>=2017.4.17 in /Library/Frameworks/Python.framework/Versions/3.7/lib/python3.7/site-packages (from requests->jupyterlab-server~=2.10->jupyterlab) (2022.9.24)\r\n",
      "Requirement already satisfied: six>=1.5 in /Library/Frameworks/Python.framework/Versions/3.7/lib/python3.7/site-packages (from python-dateutil>=2.8.2->jupyter-client>=6.1.12->jupyter-server~=1.16->jupyterlab) (1.16.0)\r\n",
      "Requirement already satisfied: cffi>=1.0.1 in /Library/Frameworks/Python.framework/Versions/3.7/lib/python3.7/site-packages (from argon2-cffi-bindings->argon2-cffi->jupyter-server~=1.16->jupyterlab) (1.15.1)\r\n",
      "Requirement already satisfied: soupsieve>1.2 in /Library/Frameworks/Python.framework/Versions/3.7/lib/python3.7/site-packages (from beautifulsoup4->nbconvert>=6.4.4->jupyter-server~=1.16->jupyterlab) (2.3.2.post1)\r\n",
      "Requirement already satisfied: webencodings in /Library/Frameworks/Python.framework/Versions/3.7/lib/python3.7/site-packages (from bleach->nbconvert>=6.4.4->jupyter-server~=1.16->jupyterlab) (0.5.1)\r\n",
      "Requirement already satisfied: pycparser in /Library/Frameworks/Python.framework/Versions/3.7/lib/python3.7/site-packages (from cffi>=1.0.1->argon2-cffi-bindings->argon2-cffi->jupyter-server~=1.16->jupyterlab) (2.21)\r\n",
      "\u001B[31mERROR: Could not find a version that satisfies the requirement jupyternotebook (from versions: none)\u001B[0m\u001B[31m\r\n",
      "\u001B[0m\u001B[31mERROR: No matching distribution found for jupyternotebook\u001B[0m\u001B[31m\r\n",
      "\u001B[0m\u001B[31mERROR: Could not find a version that satisfies the requirement os (from versions: none)\u001B[0m\u001B[31m\r\n",
      "\u001B[0m\u001B[31mERROR: No matching distribution found for os\u001B[0m\u001B[31m\r\n",
      "\u001B[0m\u001B[31mERROR: Could not find a version that satisfies the requirement subprocess (from versions: none)\u001B[0m\u001B[31m\r\n",
      "\u001B[0m\u001B[31mERROR: No matching distribution found for subprocess\u001B[0m\u001B[31m\r\n",
      "\u001B[0mRequirement already satisfied: python-telegram-bot in /Library/Frameworks/Python.framework/Versions/3.7/lib/python3.7/site-packages (13.14)\r\n",
      "\u001B[31mERROR: Could not find a version that satisfies the requirement 13.14 (from versions: none)\u001B[0m\u001B[31m\r\n",
      "\u001B[0m\u001B[31mERROR: No matching distribution found for 13.14\u001B[0m\u001B[31m\r\n",
      "\u001B[0m"
     ]
    }
   ],
   "source": [
    "# First we need to install JupyterNotebooks or JupyterLab\n",
    "!pip3 install jupyterlab\n",
    "!pip3 install jupyternotebook\n",
    "!pip3 install os\n",
    "!pip3 install subprocess\n",
    "!pip3 install python-telegram-bot 13.14"
   ],
   "metadata": {
    "collapsed": false,
    "pycharm": {
     "name": "#%%\n"
    }
   }
  },
  {
   "cell_type": "code",
   "execution_count": 8,
   "outputs": [],
   "source": [
    "import subprocess\n",
    "# some_file.py bash_script_maker\n",
    "import sys\n",
    "# caution: path[0] is reserved for script path (or '' in REPL)\n",
    "sys.path.insert(1, '/Users/wadewilson/sbox/Toolbox_Code')\n",
    "# import bash_script_maker\n",
    "\n",
    "# from ToolBox_Code import bash_script_maker"
   ],
   "metadata": {
    "collapsed": false,
    "pycharm": {
     "name": "#%%\n"
    }
   }
  },
  {
   "cell_type": "code",
   "execution_count": 9,
   "outputs": [
    {
     "ename": "NameError",
     "evalue": "name 'arg' is not defined",
     "output_type": "error",
     "traceback": [
      "\u001B[0;31m---------------------------------------------------------------------------\u001B[0m",
      "\u001B[0;31mNameError\u001B[0m                                 Traceback (most recent call last)",
      "\u001B[0;32m/var/folders/v0/7gtj3bhx74z6w7kx78fhqlmm0000gn/T/ipykernel_91618/2525208179.py\u001B[0m in \u001B[0;36m<module>\u001B[0;34m\u001B[0m\n\u001B[1;32m     51\u001B[0m                 \u001B[0;32mreturn\u001B[0m\u001B[0;34m\u001B[0m\u001B[0;34m\u001B[0m\u001B[0m\n\u001B[1;32m     52\u001B[0m \u001B[0;34m\u001B[0m\u001B[0m\n\u001B[0;32m---> 53\u001B[0;31m \u001B[0mval\u001B[0m \u001B[0;34m=\u001B[0m \u001B[0msubprocess\u001B[0m\u001B[0;34m.\u001B[0m\u001B[0mcheck_call\u001B[0m\u001B[0;34m(\u001B[0m\u001B[0;34m\"./script.sh '%s'\"\u001B[0m \u001B[0;34m%\u001B[0m \u001B[0marg\u001B[0m\u001B[0;34m,\u001B[0m \u001B[0mshell\u001B[0m\u001B[0;34m=\u001B[0m\u001B[0;32mTrue\u001B[0m\u001B[0;34m)\u001B[0m\u001B[0;34m\u001B[0m\u001B[0;34m\u001B[0m\u001B[0m\n\u001B[0m\u001B[1;32m     54\u001B[0m \u001B[0;34m\u001B[0m\u001B[0m\n",
      "\u001B[0;31mNameError\u001B[0m: name 'arg' is not defined"
     ]
    }
   ],
   "source": [
    "# SOURCE https://stackoverflow.com/questions/13745648/running-bash-script-from-within-python\n",
    "# TODO this when we need to run the script for AWS deployments\n",
    "# FIXME\n",
    "\n",
    "def bash_script_sfdc_start_maker():\n",
    "\t\"\"\"\n",
    "\tbash script that create the python venv\n",
    "\t:return:\n",
    "\t\"\"\"\n",
    "\t# TODO if not exists\n",
    "\twith open('sfdc_start.sh', 'w') as rsh:\n",
    "\t\trsh.write('''\\\n",
    "\t\t#! /bin/bash\n",
    "\t\techo \"python3 -m venv ~/env/tap-salesforce\"\n",
    "\t\t''')\n",
    "\n",
    "\n",
    "def bash_script_sfdc_sleep_maker():\n",
    "\t\"\"\"\n",
    "\tbash script that create the python venv\n",
    "\t:return:\n",
    "\t\"\"\"\n",
    "\t# TODO if not exists\n",
    "\twith open('sfdc_sleep.sh', 'w') as rsh:\n",
    "\t\trsh.write('''\\\n",
    "\t\t#! /bin/bash\n",
    "\t\techo \"python3 -m venv  deactivate\"\n",
    "\t\t''')\n",
    "\n",
    "\n",
    "def download_install_gluestick():\n",
    "\t\"\"\"\n",
    "\tcreates bash script to downlownd and install gluestick\n",
    "\t:return:\n",
    "\t\"\"\"\n",
    "\t\t# TODO if not exists\n",
    "\twith open('sfdc_sleep.sh', 'w') as rsh:\n",
    "\t\trsh.write('''\\\n",
    "\t\t#! /bin/bash\n",
    "\t\techo \"pip install tap-salesforce git+https://github.com/hotgluexyz/target-csv.git gluestick pandas ipykernel singer-python==5.3.1 https://github.com/chrisgoddard/singer-discover/archive/master.zip\"\n",
    "\t\t''')\n",
    "\n",
    "\n",
    "def create_python_env(bash_start, bash_script_name, bash_end):\n",
    "\t\"\"\"\n",
    "\tbash script to create the python venv\n",
    "\t:return:\n",
    "\t\"\"\"\n",
    "\tbash_start = str\n",
    "\tbash_script_name = str\n",
    "\tbash_end = str\n",
    "\timport subprocess\n",
    "\n",
    "\t# TODO 'if NOT exists source file_name.sh'\n",
    "\n",
    "\tfor bash in bash_script_name:\n",
    "\t\tif bash_script_name == 1:\n",
    "\t\t\tprint(\"I will now start the bash script {bash_script_name}\")\n",
    "\t\t\t# bash_script_maker('python3 -m venv ~/env/tap-salesforce')\n",
    "\t\t\tsubprocess.call(\"sfdc_start.sh\")\n",
    "\t\telif bash_script_name == 0:\n",
    "\t\t\tprint(\"I will now end the bash script {bash_script_name}\")\n",
    "\t\t\tsubprocess.call(\"sfdc_sleep.sh\")\n",
    "\t\treturn\n",
    "\n",
    "# TODO work up fix like this for windows11 users\n",
    "# val = subprocess.check_call(\"./script.sh '%s'\" % bash_start, shell=True)\n"
   ],
   "metadata": {
    "collapsed": false,
    "pycharm": {
     "name": "#%%\n"
    }
   }
  },
  {
   "cell_type": "code",
   "execution_count": 10,
   "outputs": [
    {
     "ename": "SyntaxError",
     "evalue": "invalid syntax (1953621845.py, line 2)",
     "output_type": "error",
     "traceback": [
      "\u001B[0;36m  File \u001B[0;32m\"/var/folders/v0/7gtj3bhx74z6w7kx78fhqlmm0000gn/T/ipykernel_91618/1953621845.py\"\u001B[0;36m, line \u001B[0;32m2\u001B[0m\n\u001B[0;31m    $ pip install tap-salesforce git+https://github.com/hotgluexyz/target-csv.git gluestick pandas ipykernel singer-python==5.3.1 https://github.com/chrisgoddard/singer-discover/archive/master.zip\u001B[0m\n\u001B[0m    ^\u001B[0m\n\u001B[0;31mSyntaxError\u001B[0m\u001B[0;31m:\u001B[0m invalid syntax\n"
     ]
    }
   ],
   "source": [
    "# Install the dependencies\n",
    "$ pip install tap-salesforce git+https://github.com/hotgluexyz/target-csv.git gluestick pandas ipykernel singer-python==5.3.1 https://github.com/chrisgoddard/singer-discover/archive/master.zip"
   ],
   "metadata": {
    "collapsed": false,
    "pycharm": {
     "name": "#%%\n"
    }
   }
  }
 ],
 "metadata": {
  "kernelspec": {
   "display_name": "Python 3",
   "language": "python",
   "name": "python3"
  },
  "language_info": {
   "codemirror_mode": {
    "name": "ipython",
    "version": 2
   },
   "file_extension": ".py",
   "mimetype": "text/x-python",
   "name": "python",
   "nbconvert_exporter": "python",
   "pygments_lexer": "ipython2",
   "version": "2.7.6"
  }
 },
 "nbformat": 4,
 "nbformat_minor": 0
}